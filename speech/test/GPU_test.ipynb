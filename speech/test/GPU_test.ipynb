{
  "cells": [
    {
      "cell_type": "code",
      "execution_count": null,
      "metadata": {
        "id": "O5QzMZiS3Hij"
      },
      "outputs": [],
      "source": [
        "!pip install TTS"
      ]
    },
    {
      "cell_type": "code",
      "execution_count": null,
      "metadata": {
        "id": "n8NvEQ2227a1"
      },
      "outputs": [],
      "source": [
        "from TTS.api import TTS\n",
        "\n",
        "def runT2S(txt, GPU=False, OUTPUT_PATH=\"output.wav\"):\n",
        "    # Init TTS with the target model name\n",
        "    # print(TTS.list_models())\n",
        "    # Curr: Tacotron2-DDC + HiFiGAN\n",
        "    tts = TTS(model_name=\"tts_models/en/ljspeech/tacotron2-DDC\", progress_bar=True, gpu=GPU)\n",
        "    # Run TTS\n",
        "    tts.tts_to_file(text=txt, file_path=OUTPUT_PATH)\n",
        "\n",
        "    return OUTPUT_PATH"
      ]
    },
    {
      "cell_type": "markdown",
      "source": [
        "Speech time: $1:34$"
      ],
      "metadata": {
        "id": "lvlvYkfc7yyN"
      }
    },
    {
      "cell_type": "code",
      "execution_count": null,
      "metadata": {
        "id": "kzdmsHex3W4b"
      },
      "outputs": [],
      "source": [
        "txt = \"Good morning everybody. It’s nice to see such a big audience. When I was asked to give a topic to give a talk, on a topic, that was of interest to both scientists and non scientists, and I thought for a few minutes and then I thought one subject that is dear to many people’s hearts is chocolate. Is there anybody here who doesn’t like chocolate? Put your hand up if you don’t. Oh yeah, the odd one, but not many, and indeed there have been surveys that the population about how much they like chocolate, this is a recent survey from women in the United States, and that shows that the average consumption of chocolate is more than five kilos per person per year. More than 93 percent of the population eat chocolate. Three percent feel guilty about eating chocolate. So chocolate - Some people feel they shouldn’t enjoy it but they do. 67 percent prefer milk chocolate to dark chocolate. And 52 percent feel that eating chocolate makes them feel happy. So some people turn to chocolate when they are feeling a bit down and they eat a bar of chocolate and it makes them feel happy. So what I want to do today is to talk to you a bit about where chocolate comes from, how it’s made, a bit about the history of chocolate making, and a bit about the quality attributes, what manufactures think consumers require when they buy a bar of chocolate.\""
      ]
    },
    {
      "cell_type": "markdown",
      "metadata": {
        "id": "34wbts6X3ffj"
      },
      "source": [
        "##w/o GPU"
      ]
    },
    {
      "cell_type": "code",
      "execution_count": null,
      "metadata": {
        "colab": {
          "base_uri": "https://localhost:8080/",
          "height": 1000
        },
        "id": "irsM1XEt3e4I",
        "outputId": "7120a835-90c2-4ba1-ad5f-ee91e074d378"
      },
      "outputs": [
        {
          "output_type": "stream",
          "name": "stdout",
          "text": [
            " > Downloading model to /root/.local/share/tts/tts_models--en--ljspeech--tacotron2-DDC\n"
          ]
        },
        {
          "output_type": "stream",
          "name": "stderr",
          "text": [
            "100%|██████████| 113M/113M [00:03<00:00, 34.1MiB/s]\n"
          ]
        },
        {
          "output_type": "stream",
          "name": "stdout",
          "text": [
            " > Model's license - apache 2.0\n",
            " > Check https://choosealicense.com/licenses/apache-2.0/ for more info.\n",
            " > Downloading model to /root/.local/share/tts/vocoder_models--en--ljspeech--hifigan_v2\n"
          ]
        },
        {
          "output_type": "stream",
          "name": "stderr",
          "text": [
            "100%|██████████| 3.80M/3.80M [00:00<00:00, 16.1MiB/s]\n"
          ]
        },
        {
          "output_type": "stream",
          "name": "stdout",
          "text": [
            " > Model's license - apache 2.0\n",
            " > Check https://choosealicense.com/licenses/apache-2.0/ for more info.\n",
            " > Using model: Tacotron2\n",
            " > Setting up Audio Processor...\n",
            " | > sample_rate:22050\n",
            " | > resample:False\n",
            " | > num_mels:80\n",
            " | > log_func:np.log\n",
            " | > min_level_db:-100\n",
            " | > frame_shift_ms:None\n",
            " | > frame_length_ms:None\n",
            " | > ref_level_db:20\n",
            " | > fft_size:1024\n",
            " | > power:1.5\n",
            " | > preemphasis:0.0\n",
            " | > griffin_lim_iters:60\n",
            " | > signal_norm:False\n",
            " | > symmetric_norm:True\n",
            " | > mel_fmin:0\n",
            " | > mel_fmax:8000.0\n",
            " | > pitch_fmin:1.0\n",
            " | > pitch_fmax:640.0\n",
            " | > spec_gain:1.0\n",
            " | > stft_pad_mode:reflect\n",
            " | > max_norm:4.0\n",
            " | > clip_norm:True\n",
            " | > do_trim_silence:True\n",
            " | > trim_db:60\n",
            " | > do_sound_norm:False\n",
            " | > do_amp_to_db_linear:True\n",
            " | > do_amp_to_db_mel:True\n",
            " | > do_rms_norm:False\n",
            " | > db_level:None\n",
            " | > stats_path:None\n",
            " | > base:2.718281828459045\n",
            " | > hop_length:256\n",
            " | > win_length:1024\n",
            " > Model's reduction rate `r` is set to: 1\n",
            " > Vocoder Model: hifigan\n",
            " > Setting up Audio Processor...\n",
            " | > sample_rate:22050\n",
            " | > resample:False\n",
            " | > num_mels:80\n",
            " | > log_func:np.log\n",
            " | > min_level_db:-100\n",
            " | > frame_shift_ms:None\n",
            " | > frame_length_ms:None\n",
            " | > ref_level_db:20\n",
            " | > fft_size:1024\n",
            " | > power:1.5\n",
            " | > preemphasis:0.0\n",
            " | > griffin_lim_iters:60\n",
            " | > signal_norm:False\n",
            " | > symmetric_norm:True\n",
            " | > mel_fmin:0\n",
            " | > mel_fmax:8000.0\n",
            " | > pitch_fmin:1.0\n",
            " | > pitch_fmax:640.0\n",
            " | > spec_gain:1.0\n",
            " | > stft_pad_mode:reflect\n",
            " | > max_norm:4.0\n",
            " | > clip_norm:True\n",
            " | > do_trim_silence:False\n",
            " | > trim_db:60\n",
            " | > do_sound_norm:False\n",
            " | > do_amp_to_db_linear:True\n",
            " | > do_amp_to_db_mel:True\n",
            " | > do_rms_norm:False\n",
            " | > db_level:None\n",
            " | > stats_path:None\n",
            " | > base:2.718281828459045\n",
            " | > hop_length:256\n",
            " | > win_length:1024\n",
            " > Generator Model: hifigan_generator\n",
            " > Discriminator Model: hifigan_discriminator\n",
            "Removing weight norm...\n",
            " > Text splitted to sentences.\n",
            "['Good morning everybody.', 'It’s nice to see such a big audience.', 'When I was asked to give a topic to give a talk, on a topic, that was of interest to both scientists and non scientists, and I thought for a few minutes and then I thought one subject that is dear to many people’s hearts is chocolate.', 'Is there anybody here who doesn’t like chocolate?', 'Put your hand up if you don’t.', 'Oh yeah, the odd one, but not many, and indeed there have been surveys that the population about how much they like chocolate, this is a recent survey from women in the United States, and that shows that the average consumption of chocolate is more than five kilos per person per year.', 'More than 93 percent of the population eat chocolate.', 'Three percent feel guilty about eating chocolate.', 'So chocolate - Some people feel they shouldn’t enjoy it but they do.', '67 percent prefer milk chocolate to dark chocolate.', 'And 52 percent feel that eating chocolate makes them feel happy.', 'So some people turn to chocolate when they are feeling a bit down and they eat a bar of chocolate and it makes them feel happy.', 'So what I want to do today is to talk to you a bit about where chocolate comes from, how it’s made, a bit about the history of chocolate making, and a bit about the quality attributes, what manufactures think consumers require when they buy a bar of chocolate.']\n",
            "it’s nice to see such a big audience.\n",
            " [!] Character '’' not found in the vocabulary. Discarding it.\n",
            " > Processing time: 67.73741436004639\n",
            " > Real-time factor: 0.7307804398348137\n"
          ]
        },
        {
          "output_type": "execute_result",
          "data": {
            "text/plain": [
              "'output.wav'"
            ],
            "application/vnd.google.colaboratory.intrinsic+json": {
              "type": "string"
            }
          },
          "metadata": {},
          "execution_count": 3
        }
      ],
      "source": [
        "runT2S(txt)"
      ]
    },
    {
      "cell_type": "markdown",
      "metadata": {
        "id": "u_4zyEXk3nMg"
      },
      "source": [
        "##w/ GPU"
      ]
    },
    {
      "cell_type": "code",
      "execution_count": null,
      "metadata": {
        "id": "c88CY0QJ3nMg",
        "colab": {
          "base_uri": "https://localhost:8080/",
          "height": 1000
        },
        "outputId": "5c2d90a6-8d42-4d55-95b5-665bd3293892"
      },
      "outputs": [
        {
          "output_type": "stream",
          "name": "stdout",
          "text": [
            " > tts_models/en/ljspeech/tacotron2-DDC is already downloaded.\n",
            " > vocoder_models/en/ljspeech/hifigan_v2 is already downloaded.\n",
            " > Using model: Tacotron2\n",
            " > Setting up Audio Processor...\n",
            " | > sample_rate:22050\n",
            " | > resample:False\n",
            " | > num_mels:80\n",
            " | > log_func:np.log\n",
            " | > min_level_db:-100\n",
            " | > frame_shift_ms:None\n",
            " | > frame_length_ms:None\n",
            " | > ref_level_db:20\n",
            " | > fft_size:1024\n",
            " | > power:1.5\n",
            " | > preemphasis:0.0\n",
            " | > griffin_lim_iters:60\n",
            " | > signal_norm:False\n",
            " | > symmetric_norm:True\n",
            " | > mel_fmin:0\n",
            " | > mel_fmax:8000.0\n",
            " | > pitch_fmin:1.0\n",
            " | > pitch_fmax:640.0\n",
            " | > spec_gain:1.0\n",
            " | > stft_pad_mode:reflect\n",
            " | > max_norm:4.0\n",
            " | > clip_norm:True\n",
            " | > do_trim_silence:True\n",
            " | > trim_db:60\n",
            " | > do_sound_norm:False\n",
            " | > do_amp_to_db_linear:True\n",
            " | > do_amp_to_db_mel:True\n",
            " | > do_rms_norm:False\n",
            " | > db_level:None\n",
            " | > stats_path:None\n",
            " | > base:2.718281828459045\n",
            " | > hop_length:256\n",
            " | > win_length:1024\n",
            " > Model's reduction rate `r` is set to: 1\n",
            " > Vocoder Model: hifigan\n",
            " > Setting up Audio Processor...\n",
            " | > sample_rate:22050\n",
            " | > resample:False\n",
            " | > num_mels:80\n",
            " | > log_func:np.log\n",
            " | > min_level_db:-100\n",
            " | > frame_shift_ms:None\n",
            " | > frame_length_ms:None\n",
            " | > ref_level_db:20\n",
            " | > fft_size:1024\n",
            " | > power:1.5\n",
            " | > preemphasis:0.0\n",
            " | > griffin_lim_iters:60\n",
            " | > signal_norm:False\n",
            " | > symmetric_norm:True\n",
            " | > mel_fmin:0\n",
            " | > mel_fmax:8000.0\n",
            " | > pitch_fmin:1.0\n",
            " | > pitch_fmax:640.0\n",
            " | > spec_gain:1.0\n",
            " | > stft_pad_mode:reflect\n",
            " | > max_norm:4.0\n",
            " | > clip_norm:True\n",
            " | > do_trim_silence:False\n",
            " | > trim_db:60\n",
            " | > do_sound_norm:False\n",
            " | > do_amp_to_db_linear:True\n",
            " | > do_amp_to_db_mel:True\n",
            " | > do_rms_norm:False\n",
            " | > db_level:None\n",
            " | > stats_path:None\n",
            " | > base:2.718281828459045\n",
            " | > hop_length:256\n",
            " | > win_length:1024\n",
            " > Generator Model: hifigan_generator\n",
            " > Discriminator Model: hifigan_discriminator\n",
            "Removing weight norm...\n",
            " > Text splitted to sentences.\n",
            "['Good morning everybody.', 'It’s nice to see such a big audience.', 'When I was asked to give a topic to give a talk, on a topic, that was of interest to both scientists and non scientists, and I thought for a few minutes and then I thought one subject that is dear to many people’s hearts is chocolate.', 'Is there anybody here who doesn’t like chocolate?', 'Put your hand up if you don’t.', 'Oh yeah, the odd one, but not many, and indeed there have been surveys that the population about how much they like chocolate, this is a recent survey from women in the United States, and that shows that the average consumption of chocolate is more than five kilos per person per year.', 'More than 93 percent of the population eat chocolate.', 'Three percent feel guilty about eating chocolate.', 'So chocolate - Some people feel they shouldn’t enjoy it but they do.', '67 percent prefer milk chocolate to dark chocolate.', 'And 52 percent feel that eating chocolate makes them feel happy.', 'So some people turn to chocolate when they are feeling a bit down and they eat a bar of chocolate and it makes them feel happy.', 'So what I want to do today is to talk to you a bit about where chocolate comes from, how it’s made, a bit about the history of chocolate making, and a bit about the quality attributes, what manufactures think consumers require when they buy a bar of chocolate.']\n",
            "it’s nice to see such a big audience.\n",
            " [!] Character '’' not found in the vocabulary. Discarding it.\n",
            " > Processing time: 13.516143798828125\n",
            " > Real-time factor: 0.14323453937298636\n"
          ]
        },
        {
          "output_type": "execute_result",
          "data": {
            "text/plain": [
              "'output.wav'"
            ],
            "application/vnd.google.colaboratory.intrinsic+json": {
              "type": "string"
            }
          },
          "metadata": {},
          "execution_count": 4
        }
      ],
      "source": [
        "runT2S(txt, GPU=True)"
      ]
    },
    {
      "cell_type": "code",
      "source": [
        "!pip install gTTS"
      ],
      "metadata": {
        "id": "e9_aU4NP8lqY"
      },
      "execution_count": null,
      "outputs": []
    },
    {
      "cell_type": "code",
      "source": [
        "from gtts import gTTS\n",
        "\n",
        "def rungTTS(txt, OUTPUT_PATH=\"output.mp3\"):\n",
        "    tts = gTTS(txt)\n",
        "    tts.save(OUTPUT_PATH)\n",
        "\n",
        "    return OUTPUT_PATH"
      ],
      "metadata": {
        "id": "sT3ozgHD8EN3"
      },
      "execution_count": null,
      "outputs": []
    },
    {
      "cell_type": "code",
      "source": [
        "import time\n",
        "\n",
        "start_time = time.time()\n",
        "rungTTS(txt)\n",
        "print(\"--- %s seconds ---\" % (time.time() - start_time))"
      ],
      "metadata": {
        "colab": {
          "base_uri": "https://localhost:8080/"
        },
        "id": "4S-_apGM8ozm",
        "outputId": "c03d26d2-0b2b-4c67-8756-ed79ec40ec42"
      },
      "execution_count": null,
      "outputs": [
        {
          "output_type": "stream",
          "name": "stdout",
          "text": [
            "--- 5.175191164016724 seconds ---\n"
          ]
        }
      ]
    },
    {
      "cell_type": "code",
      "source": [
        "!nvidia-smi -L"
      ],
      "metadata": {
        "colab": {
          "base_uri": "https://localhost:8080/"
        },
        "id": "N9PnTQ2r7Riv",
        "outputId": "8716d91d-bb86-4cb4-b08c-ed118d7ab35b"
      },
      "execution_count": null,
      "outputs": [
        {
          "output_type": "stream",
          "name": "stdout",
          "text": [
            "GPU 0: Tesla T4 (UUID: GPU-4922c795-b64d-c698-9663-ff58db3991da)\n"
          ]
        }
      ]
    }
  ],
  "metadata": {
    "colab": {
      "provenance": []
    },
    "kernelspec": {
      "display_name": "Python 3",
      "name": "python3"
    },
    "language_info": {
      "name": "python"
    },
    "accelerator": "GPU",
    "gpuClass": "standard"
  },
  "nbformat": 4,
  "nbformat_minor": 0
}